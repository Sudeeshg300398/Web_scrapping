{
 "cells": [
  {
   "cell_type": "code",
   "execution_count": 1,
   "id": "0debc09c",
   "metadata": {},
   "outputs": [],
   "source": [
    "# importing necessary python libraries required to perform web scrapping\n",
    "\n",
    "import bs4\n",
    "# beautiful soup\n",
    "\n",
    "from bs4 import BeautifulSoup\n",
    "\n",
    "import requests\n",
    "# requests library is used to request access over html\n",
    "\n",
    "import pandas as pd\n",
    "# pandas to create a data frame"
   ]
  },
  {
   "cell_type": "code",
   "execution_count": 2,
   "id": "ea231c11",
   "metadata": {},
   "outputs": [
    {
     "name": "stdout",
     "output_type": "stream",
     "text": [
      "Request Successful\n"
     ]
    }
   ],
   "source": [
    "url = 'https://en.wikipedia.org/wiki/List_of_video_game_developers'\n",
    "\n",
    "response = requests.get(url) # .get() fuction is used to get data from the website\n",
    "\n",
    "if response.status_code ==200:\n",
    "    print(\"Request Successful\")\n",
    "else:\n",
    "    print(\"Access denied\")"
   ]
  },
  {
   "cell_type": "code",
   "execution_count": 3,
   "id": "0cc0a43a",
   "metadata": {},
   "outputs": [
    {
     "data": {
      "text/plain": [
       "['Developer',\n",
       " 'City',\n",
       " 'Administrative division',\n",
       " 'Country',\n",
       " 'Est.',\n",
       " 'Notable games, series or franchises',\n",
       " 'Notes']"
      ]
     },
     "execution_count": 3,
     "metadata": {},
     "output_type": "execute_result"
    }
   ],
   "source": [
    "soup = BeautifulSoup(response.text,'html') # parser = html\n",
    "\n",
    "table = soup.find_all('table')[4] # since table is fifth index as per web inspection\n",
    "table_columns = table.find_all('th') # th stands for table header\n",
    "required_column_name = [column.text.strip() for column in table_columns] # iterating through each column and striping\n",
    "required_column_name"
   ]
  },
  {
   "cell_type": "code",
   "execution_count": 4,
   "id": "c97c7b99",
   "metadata": {},
   "outputs": [
    {
     "data": {
      "text/html": [
       "<div>\n",
       "<style scoped>\n",
       "    .dataframe tbody tr th:only-of-type {\n",
       "        vertical-align: middle;\n",
       "    }\n",
       "\n",
       "    .dataframe tbody tr th {\n",
       "        vertical-align: top;\n",
       "    }\n",
       "\n",
       "    .dataframe thead th {\n",
       "        text-align: right;\n",
       "    }\n",
       "</style>\n",
       "<table border=\"1\" class=\"dataframe\">\n",
       "  <thead>\n",
       "    <tr style=\"text-align: right;\">\n",
       "      <th></th>\n",
       "      <th>Developer</th>\n",
       "      <th>City</th>\n",
       "      <th>Administrative division</th>\n",
       "      <th>Country</th>\n",
       "      <th>Est.</th>\n",
       "      <th>Notable games, series or franchises</th>\n",
       "      <th>Notes</th>\n",
       "    </tr>\n",
       "  </thead>\n",
       "  <tbody>\n",
       "  </tbody>\n",
       "</table>\n",
       "</div>"
      ],
      "text/plain": [
       "Empty DataFrame\n",
       "Columns: [Developer, City, Administrative division, Country, Est., Notable games, series or franchises, Notes]\n",
       "Index: []"
      ]
     },
     "execution_count": 4,
     "metadata": {},
     "output_type": "execute_result"
    }
   ],
   "source": [
    "# creating a dataframe with these columns\n",
    "master_df = pd.DataFrame(columns= required_column_name)\n",
    "master_df"
   ]
  },
  {
   "cell_type": "code",
   "execution_count": 5,
   "id": "89729e47",
   "metadata": {},
   "outputs": [],
   "source": [
    "table_rows = table.find_all('tr') # tr-- stands for table rows\n",
    "for row in table_rows[1:]: # iterating through rows\n",
    "    rows = row.find_all('td') # finding the row data\n",
    "    individual_rows = [data.text.strip() for data in rows] # striping the row data\n",
    "    if len(individual_rows) == len(required_column_name):\n",
    "        master_df.loc[len(master_df)] = individual_rows"
   ]
  },
  {
   "cell_type": "code",
   "execution_count": 6,
   "id": "9a7aa49a",
   "metadata": {},
   "outputs": [
    {
     "data": {
      "text/html": [
       "<div>\n",
       "<style scoped>\n",
       "    .dataframe tbody tr th:only-of-type {\n",
       "        vertical-align: middle;\n",
       "    }\n",
       "\n",
       "    .dataframe tbody tr th {\n",
       "        vertical-align: top;\n",
       "    }\n",
       "\n",
       "    .dataframe thead th {\n",
       "        text-align: right;\n",
       "    }\n",
       "</style>\n",
       "<table border=\"1\" class=\"dataframe\">\n",
       "  <thead>\n",
       "    <tr style=\"text-align: right;\">\n",
       "      <th></th>\n",
       "      <th>Developer</th>\n",
       "      <th>City</th>\n",
       "      <th>Administrative division</th>\n",
       "      <th>Country</th>\n",
       "      <th>Est.</th>\n",
       "      <th>Notable games, series or franchises</th>\n",
       "      <th>Notes</th>\n",
       "    </tr>\n",
       "  </thead>\n",
       "  <tbody>\n",
       "    <tr>\n",
       "      <th>0</th>\n",
       "      <td>0verflow</td>\n",
       "      <td>Tokyo</td>\n",
       "      <td></td>\n",
       "      <td>Japan</td>\n",
       "      <td>1997</td>\n",
       "      <td>School DaysSummer DaysCross Days</td>\n",
       "      <td>Visual Novel brand (both developer and publisher)</td>\n",
       "    </tr>\n",
       "    <tr>\n",
       "      <th>1</th>\n",
       "      <td>11 bit studios</td>\n",
       "      <td>Warsaw</td>\n",
       "      <td>Masovian Voivodeship</td>\n",
       "      <td>Poland</td>\n",
       "      <td>2010</td>\n",
       "      <td>This War of MineFrostpunk</td>\n",
       "      <td>Indie developer/publisher</td>\n",
       "    </tr>\n",
       "    <tr>\n",
       "      <th>2</th>\n",
       "      <td>1C Company</td>\n",
       "      <td>Moscow</td>\n",
       "      <td></td>\n",
       "      <td>Russia</td>\n",
       "      <td>1991</td>\n",
       "      <td>King's Bounty: Warriors of the North</td>\n",
       "      <td>The company still exists, but Snowball Studios...</td>\n",
       "    </tr>\n",
       "    <tr>\n",
       "      <th>3</th>\n",
       "      <td>1-Up Studio</td>\n",
       "      <td>Tokyo</td>\n",
       "      <td></td>\n",
       "      <td>Japan</td>\n",
       "      <td>2000</td>\n",
       "      <td>Mother 3</td>\n",
       "      <td>Subsidiary of Nintendo. Formed by former emplo...</td>\n",
       "    </tr>\n",
       "    <tr>\n",
       "      <th>4</th>\n",
       "      <td>2K Czech</td>\n",
       "      <td>Brno</td>\n",
       "      <td></td>\n",
       "      <td>Czech Republic</td>\n",
       "      <td>1997</td>\n",
       "      <td>MafiaMafia II</td>\n",
       "      <td>Former subsidiary of 2K; previously known as I...</td>\n",
       "    </tr>\n",
       "  </tbody>\n",
       "</table>\n",
       "</div>"
      ],
      "text/plain": [
       "        Developer    City Administrative division         Country  Est.  \\\n",
       "0        0verflow   Tokyo                                   Japan  1997   \n",
       "1  11 bit studios  Warsaw    Masovian Voivodeship          Poland  2010   \n",
       "2      1C Company  Moscow                                  Russia  1991   \n",
       "3     1-Up Studio   Tokyo                                   Japan  2000   \n",
       "4        2K Czech    Brno                          Czech Republic  1997   \n",
       "\n",
       "    Notable games, series or franchises  \\\n",
       "0      School DaysSummer DaysCross Days   \n",
       "1             This War of MineFrostpunk   \n",
       "2  King's Bounty: Warriors of the North   \n",
       "3                              Mother 3   \n",
       "4                         MafiaMafia II   \n",
       "\n",
       "                                               Notes  \n",
       "0  Visual Novel brand (both developer and publisher)  \n",
       "1                          Indie developer/publisher  \n",
       "2  The company still exists, but Snowball Studios...  \n",
       "3  Subsidiary of Nintendo. Formed by former emplo...  \n",
       "4  Former subsidiary of 2K; previously known as I...  "
      ]
     },
     "execution_count": 6,
     "metadata": {},
     "output_type": "execute_result"
    }
   ],
   "source": [
    "master_df.head()"
   ]
  },
  {
   "cell_type": "code",
   "execution_count": null,
   "id": "67b14aae",
   "metadata": {},
   "outputs": [],
   "source": []
  }
 ],
 "metadata": {
  "kernelspec": {
   "display_name": "Python 3 (ipykernel)",
   "language": "python",
   "name": "python3"
  },
  "language_info": {
   "codemirror_mode": {
    "name": "ipython",
    "version": 3
   },
   "file_extension": ".py",
   "mimetype": "text/x-python",
   "name": "python",
   "nbconvert_exporter": "python",
   "pygments_lexer": "ipython3",
   "version": "3.9.12"
  }
 },
 "nbformat": 4,
 "nbformat_minor": 5
}
